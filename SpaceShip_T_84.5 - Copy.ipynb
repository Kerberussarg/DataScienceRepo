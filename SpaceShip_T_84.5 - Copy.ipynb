{
 "cells": [
  {
   "cell_type": "markdown",
   "id": "3e3b594b",
   "metadata": {},
   "source": [
    "# Spaceship Titanic 🚀"
   ]
  },
  {
   "cell_type": "markdown",
   "id": "df225e01",
   "metadata": {},
   "source": [
    "<div align=\"center\">\n",
    "    <img src='https://pic2.zhimg.com/v2-768b110090ef51c582c2f846adcb689a_r.jpg?source=172ae18b' style='height:100px;'>\n",
    "</div>\n"
   ]
  },
  {
   "cell_type": "markdown",
   "id": "49892659",
   "metadata": {},
   "source": [
    "## Diplomatura en Ciencia de Datos, Aprendizaje Automático y sus Aplicaciones "
   ]
  },
  {
   "cell_type": "markdown",
   "id": "7acf2e87",
   "metadata": {},
   "source": [
    "## Aprendizaje Supervisado"
   ]
  },
  {
   "cell_type": "markdown",
   "id": "3181888b",
   "metadata": {},
   "source": [
    "**Grupo 5  \n",
    "Integrantes:**\n",
    "\n",
    "    Argüello, Leandro Ismael\n",
    "    Corral, Diego\n",
    "    Racciatti, Florencia\n",
    "    Rinaudo, Eleana\n",
    "    Romero, Ernesto"
   ]
  },
  {
   "cell_type": "markdown",
   "id": "671b7590",
   "metadata": {},
   "source": [
    ">#### Se busca realizar la prediccion de cuantos pasajeros fueron transportados a otra dimension cuando la nave accidentalmente ingreso a la anomalia espacio-temporal."
   ]
  },
  {
   "cell_type": "code",
   "execution_count": 3,
   "id": "69930f80",
   "metadata": {},
   "outputs": [],
   "source": [
    "import matplotlib.pyplot as plt\n",
    "import numpy as np\n",
    "import pandas as pd\n",
    "import seaborn as sns\n",
    "sns.set_context('talk')\n",
    "import warnings\n",
    "warnings.filterwarnings('ignore')\n",
    "\n",
    "from sklearn.metrics import (\n",
    "    accuracy_score,\n",
    "    precision_score,\n",
    "    recall_score,\n",
    "    f1_score,\n",
    "    confusion_matrix,\n",
    "    plot_confusion_matrix,\n",
    "    classification_report,\n",
    ")\n",
    "from sklearn.model_selection import (\n",
    "    train_test_split,\n",
    "    ParameterSampler,\n",
    "    RandomizedSearchCV,\n",
    "    ParameterGrid,\n",
    "    GridSearchCV,\n",
    ")"
   ]
  },
  {
   "cell_type": "markdown",
   "id": "66e6a425",
   "metadata": {},
   "source": [
    "#### Carga de datos de train"
   ]
  },
  {
   "cell_type": "code",
   "execution_count": 4,
   "id": "1a9e151a",
   "metadata": {
    "scrolled": false
   },
   "outputs": [
    {
     "name": "stdout",
     "output_type": "stream",
     "text": [
      "(870, 13)\n"
     ]
    },
    {
     "data": {
      "text/html": [
       "<div>\n",
       "<style scoped>\n",
       "    .dataframe tbody tr th:only-of-type {\n",
       "        vertical-align: middle;\n",
       "    }\n",
       "\n",
       "    .dataframe tbody tr th {\n",
       "        vertical-align: top;\n",
       "    }\n",
       "\n",
       "    .dataframe thead th {\n",
       "        text-align: right;\n",
       "    }\n",
       "</style>\n",
       "<table border=\"1\" class=\"dataframe\">\n",
       "  <thead>\n",
       "    <tr style=\"text-align: right;\">\n",
       "      <th></th>\n",
       "      <th>PassengerId</th>\n",
       "      <th>HomePlanet</th>\n",
       "      <th>CryoSleep</th>\n",
       "      <th>Cabin</th>\n",
       "      <th>Destination</th>\n",
       "      <th>Age</th>\n",
       "      <th>VIP</th>\n",
       "      <th>RoomService</th>\n",
       "      <th>FoodCourt</th>\n",
       "      <th>ShoppingMall</th>\n",
       "      <th>Spa</th>\n",
       "      <th>VRDeck</th>\n",
       "      <th>Name</th>\n",
       "    </tr>\n",
       "  </thead>\n",
       "  <tbody>\n",
       "    <tr>\n",
       "      <th>0</th>\n",
       "      <td>415</td>\n",
       "      <td>Europa</td>\n",
       "      <td>True</td>\n",
       "      <td>NaN</td>\n",
       "      <td>55 Cancri e</td>\n",
       "      <td>34.0</td>\n",
       "      <td>False</td>\n",
       "      <td>0.0</td>\n",
       "      <td>0.0</td>\n",
       "      <td>0.0</td>\n",
       "      <td>0.0</td>\n",
       "      <td>0.0</td>\n",
       "      <td>Minopus Taptiritty</td>\n",
       "    </tr>\n",
       "    <tr>\n",
       "      <th>1</th>\n",
       "      <td>8663</td>\n",
       "      <td>Earth</td>\n",
       "      <td>True</td>\n",
       "      <td>G/1489/S</td>\n",
       "      <td>PSO J318.5-22</td>\n",
       "      <td>13.0</td>\n",
       "      <td>False</td>\n",
       "      <td>0.0</td>\n",
       "      <td>0.0</td>\n",
       "      <td>0.0</td>\n",
       "      <td>0.0</td>\n",
       "      <td>0.0</td>\n",
       "      <td>Chrisa Francock</td>\n",
       "    </tr>\n",
       "    <tr>\n",
       "      <th>2</th>\n",
       "      <td>4524</td>\n",
       "      <td>Earth</td>\n",
       "      <td>False</td>\n",
       "      <td>G/776/P</td>\n",
       "      <td>TRAPPIST-1e</td>\n",
       "      <td>44.0</td>\n",
       "      <td>False</td>\n",
       "      <td>22.0</td>\n",
       "      <td>1.0</td>\n",
       "      <td>0.0</td>\n",
       "      <td>864.0</td>\n",
       "      <td>0.0</td>\n",
       "      <td>Elinda Miley</td>\n",
       "    </tr>\n",
       "    <tr>\n",
       "      <th>3</th>\n",
       "      <td>8246</td>\n",
       "      <td>Earth</td>\n",
       "      <td>False</td>\n",
       "      <td>E/577/S</td>\n",
       "      <td>PSO J318.5-22</td>\n",
       "      <td>63.0</td>\n",
       "      <td>False</td>\n",
       "      <td>0.0</td>\n",
       "      <td>0.0</td>\n",
       "      <td>80.0</td>\n",
       "      <td>0.0</td>\n",
       "      <td>2322.0</td>\n",
       "      <td>Karley Goods</td>\n",
       "    </tr>\n",
       "    <tr>\n",
       "      <th>4</th>\n",
       "      <td>2935</td>\n",
       "      <td>Europa</td>\n",
       "      <td>False</td>\n",
       "      <td>B/117/S</td>\n",
       "      <td>55 Cancri e</td>\n",
       "      <td>10.0</td>\n",
       "      <td>False</td>\n",
       "      <td>0.0</td>\n",
       "      <td>0.0</td>\n",
       "      <td>0.0</td>\n",
       "      <td>0.0</td>\n",
       "      <td>0.0</td>\n",
       "      <td>Arkard Sechausive</td>\n",
       "    </tr>\n",
       "  </tbody>\n",
       "</table>\n",
       "</div>"
      ],
      "text/plain": [
       "   PassengerId HomePlanet CryoSleep     Cabin    Destination   Age    VIP  \\\n",
       "0          415     Europa      True       NaN    55 Cancri e  34.0  False   \n",
       "1         8663      Earth      True  G/1489/S  PSO J318.5-22  13.0  False   \n",
       "2         4524      Earth     False   G/776/P    TRAPPIST-1e  44.0  False   \n",
       "3         8246      Earth     False   E/577/S  PSO J318.5-22  63.0  False   \n",
       "4         2935     Europa     False   B/117/S    55 Cancri e  10.0  False   \n",
       "\n",
       "   RoomService  FoodCourt  ShoppingMall    Spa  VRDeck                Name  \n",
       "0          0.0        0.0           0.0    0.0     0.0  Minopus Taptiritty  \n",
       "1          0.0        0.0           0.0    0.0     0.0     Chrisa Francock  \n",
       "2         22.0        1.0           0.0  864.0     0.0        Elinda Miley  \n",
       "3          0.0        0.0          80.0    0.0  2322.0        Karley Goods  \n",
       "4          0.0        0.0           0.0    0.0     0.0   Arkard Sechausive  "
      ]
     },
     "execution_count": 4,
     "metadata": {},
     "output_type": "execute_result"
    }
   ],
   "source": [
    "train_url = r\"https://raw.githubusercontent.com/eleanarinaudo/Diplo2022_Grupo-5/main/Notebooks/Aprendizaje%20Supervisado/data/test.csv\"\n",
    "train = pd.read_csv(train_url)\n",
    "print(train.shape)\n",
    "train.head()"
   ]
  },
  {
   "cell_type": "markdown",
   "id": "64109155",
   "metadata": {},
   "source": [
    "_________________________________________________________"
   ]
  },
  {
   "cell_type": "markdown",
   "id": "068a19ae",
   "metadata": {},
   "source": [
    "## Analisis de correlacion de las variables de 'train'."
   ]
  },
  {
   "cell_type": "code",
   "execution_count": 5,
   "id": "e62ec7d2",
   "metadata": {
    "scrolled": false
   },
   "outputs": [
    {
     "data": {
      "image/png": "[encoded data removed]",
      "text/plain": [
       "<Figure size 720x504 with 2 Axes>"
      ]
     },
     "metadata": {
      "needs_background": "light"
     },
     "output_type": "display_data"
    }
   ],
   "source": [
    "plt.rcParams['figure.figsize'] = (10, 7)\n",
    "sns.heatmap(train.corr(), annot = True, fmt = \".2f\", cmap = 'Purples')\n",
    "plt.title('Heatmap for train', fontsize = 20)\n",
    "plt.show()"
   ]
  },
  {
   "cell_type": "markdown",
   "id": "4f9de3a3",
   "metadata": {},
   "source": [
    ">**Se observan ciertas correlaciones aunque nada demasiado significativo, un maximo de -0.25.**"
   ]
  },
  {
   "cell_type": "markdown",
   "id": "acce35f5",
   "metadata": {},
   "source": [
    "## Observamos nulos y su porcentaje dentro de cada columna asi como en el total."
   ]
  },
  {
   "cell_type": "code",
   "execution_count": 6,
   "id": "0aaec4e9",
   "metadata": {
    "scrolled": false
   },
   "outputs": [
    {
     "data": {
      "text/html": [
       "<style type=\"text/css\">\n",
       "#T_0cede_row0_col1 {\n",
       "  background-color: #023858;\n",
       "  color: #f1f1f1;\n",
       "}\n",
       "#T_0cede_row1_col1 {\n",
       "  background-color: #023f64;\n",
       "  color: #f1f1f1;\n",
       "}\n",
       "#T_0cede_row2_col1 {\n",
       "  background-color: #03517e;\n",
       "  color: #f1f1f1;\n",
       "}\n",
       "#T_0cede_row3_col1, #T_0cede_row4_col1 {\n",
       "  background-color: #056aa6;\n",
       "  color: #f1f1f1;\n",
       "}\n",
       "#T_0cede_row5_col1 {\n",
       "  background-color: #056faf;\n",
       "  color: #f1f1f1;\n",
       "}\n",
       "#T_0cede_row6_col1 {\n",
       "  background-color: #1077b4;\n",
       "  color: #f1f1f1;\n",
       "}\n",
       "#T_0cede_row7_col1, #T_0cede_row8_col1 {\n",
       "  background-color: #1c7fb8;\n",
       "  color: #f1f1f1;\n",
       "}\n",
       "#T_0cede_row9_col1 {\n",
       "  background-color: #358fc0;\n",
       "  color: #f1f1f1;\n",
       "}\n",
       "#T_0cede_row10_col1 {\n",
       "  background-color: #549cc7;\n",
       "  color: #f1f1f1;\n",
       "}\n",
       "#T_0cede_row11_col1 {\n",
       "  background-color: #63a2cb;\n",
       "  color: #f1f1f1;\n",
       "}\n",
       "#T_0cede_row12_col1 {\n",
       "  background-color: #fff7fb;\n",
       "  color: #000000;\n",
       "}\n",
       "</style>\n",
       "<table id=\"T_0cede_\">\n",
       "  <thead>\n",
       "    <tr>\n",
       "      <th class=\"blank level0\" >&nbsp;</th>\n",
       "      <th class=\"col_heading level0 col0\" >Total_nuls_train</th>\n",
       "      <th class=\"col_heading level0 col1\" >Percent</th>\n",
       "    </tr>\n",
       "  </thead>\n",
       "  <tbody>\n",
       "    <tr>\n",
       "      <th id=\"T_0cede_level0_row0\" class=\"row_heading level0 row0\" >FoodCourt</th>\n",
       "      <td id=\"T_0cede_row0_col0\" class=\"data row0 col0\" >28</td>\n",
       "      <td id=\"T_0cede_row0_col1\" class=\"data row0 col1\" >0.032000</td>\n",
       "    </tr>\n",
       "    <tr>\n",
       "      <th id=\"T_0cede_level0_row1\" class=\"row_heading level0 row1\" >RoomService</th>\n",
       "      <td id=\"T_0cede_row1_col0\" class=\"data row1 col0\" >27</td>\n",
       "      <td id=\"T_0cede_row1_col1\" class=\"data row1 col1\" >0.031000</td>\n",
       "    </tr>\n",
       "    <tr>\n",
       "      <th id=\"T_0cede_level0_row2\" class=\"row_heading level0 row2\" >Spa</th>\n",
       "      <td id=\"T_0cede_row2_col0\" class=\"data row2 col0\" >25</td>\n",
       "      <td id=\"T_0cede_row2_col1\" class=\"data row2 col1\" >0.029000</td>\n",
       "    </tr>\n",
       "    <tr>\n",
       "      <th id=\"T_0cede_level0_row3\" class=\"row_heading level0 row3\" >HomePlanet</th>\n",
       "      <td id=\"T_0cede_row3_col0\" class=\"data row3 col0\" >22</td>\n",
       "      <td id=\"T_0cede_row3_col1\" class=\"data row3 col1\" >0.025000</td>\n",
       "    </tr>\n",
       "    <tr>\n",
       "      <th id=\"T_0cede_level0_row4\" class=\"row_heading level0 row4\" >Destination</th>\n",
       "      <td id=\"T_0cede_row4_col0\" class=\"data row4 col0\" >22</td>\n",
       "      <td id=\"T_0cede_row4_col1\" class=\"data row4 col1\" >0.025000</td>\n",
       "    </tr>\n",
       "    <tr>\n",
       "      <th id=\"T_0cede_level0_row5\" class=\"row_heading level0 row5\" >CryoSleep</th>\n",
       "      <td id=\"T_0cede_row5_col0\" class=\"data row5 col0\" >21</td>\n",
       "      <td id=\"T_0cede_row5_col1\" class=\"data row5 col1\" >0.024000</td>\n",
       "    </tr>\n",
       "    <tr>\n",
       "      <th id=\"T_0cede_level0_row6\" class=\"row_heading level0 row6\" >ShoppingMall</th>\n",
       "      <td id=\"T_0cede_row6_col0\" class=\"data row6 col0\" >20</td>\n",
       "      <td id=\"T_0cede_row6_col1\" class=\"data row6 col1\" >0.023000</td>\n",
       "    </tr>\n",
       "    <tr>\n",
       "      <th id=\"T_0cede_level0_row7\" class=\"row_heading level0 row7\" >VIP</th>\n",
       "      <td id=\"T_0cede_row7_col0\" class=\"data row7 col0\" >19</td>\n",
       "      <td id=\"T_0cede_row7_col1\" class=\"data row7 col1\" >0.022000</td>\n",
       "    </tr>\n",
       "    <tr>\n",
       "      <th id=\"T_0cede_level0_row8\" class=\"row_heading level0 row8\" >VRDeck</th>\n",
       "      <td id=\"T_0cede_row8_col0\" class=\"data row8 col0\" >19</td>\n",
       "      <td id=\"T_0cede_row8_col1\" class=\"data row8 col1\" >0.022000</td>\n",
       "    </tr>\n",
       "    <tr>\n",
       "      <th id=\"T_0cede_level0_row9\" class=\"row_heading level0 row9\" >Age</th>\n",
       "      <td id=\"T_0cede_row9_col0\" class=\"data row9 col0\" >17</td>\n",
       "      <td id=\"T_0cede_row9_col1\" class=\"data row9 col1\" >0.020000</td>\n",
       "    </tr>\n",
       "    <tr>\n",
       "      <th id=\"T_0cede_level0_row10\" class=\"row_heading level0 row10\" >Name</th>\n",
       "      <td id=\"T_0cede_row10_col0\" class=\"data row10 col0\" >16</td>\n",
       "      <td id=\"T_0cede_row10_col1\" class=\"data row10 col1\" >0.018000</td>\n",
       "    </tr>\n",
       "    <tr>\n",
       "      <th id=\"T_0cede_level0_row11\" class=\"row_heading level0 row11\" >Cabin</th>\n",
       "      <td id=\"T_0cede_row11_col0\" class=\"data row11 col0\" >15</td>\n",
       "      <td id=\"T_0cede_row11_col1\" class=\"data row11 col1\" >0.017000</td>\n",
       "    </tr>\n",
       "    <tr>\n",
       "      <th id=\"T_0cede_level0_row12\" class=\"row_heading level0 row12\" >PassengerId</th>\n",
       "      <td id=\"T_0cede_row12_col0\" class=\"data row12 col0\" >0</td>\n",
       "      <td id=\"T_0cede_row12_col1\" class=\"data row12 col1\" >0.000000</td>\n",
       "    </tr>\n",
       "  </tbody>\n",
       "</table>\n"
      ],
      "text/plain": [
       "<pandas.io.formats.style.Styler at 0x23923622160>"
      ]
     },
     "execution_count": 6,
     "metadata": {},
     "output_type": "execute_result"
    }
   ],
   "source": [
    "total = train.isnull().sum().sort_values(ascending = False)\n",
    "percent = (train.isnull().sum() / train.isnull().count()).sort_values(ascending = False)\n",
    "missing_data = pd.concat([total, round(percent,3)], axis = 1, keys = ['Total_nuls_train', 'Percent'])\n",
    "missing_data.style.background_gradient(subset = [\"Percent\"])"
   ]
  },
  {
   "cell_type": "code",
   "execution_count": 7,
   "id": "fee4f726",
   "metadata": {},
   "outputs": [
    {
     "name": "stdout",
     "output_type": "stream",
     "text": [
      " Total de nulos en train:  251 \n",
      " Porcentaje de nulos en train:  28.85\n"
     ]
    }
   ],
   "source": [
    "total_nuls = missing_data.Total_nuls_train.sum()\n",
    "perc_nuls = (total_nuls * 100)/len(train)\n",
    "print(' Total de nulos en train: ',total_nuls,'\\n Porcentaje de nulos en train: ',round(perc_nuls,2))"
   ]
  },
  {
   "cell_type": "markdown",
   "id": "3f6ebb0d",
   "metadata": {},
   "source": [
    ">**Basandonos en que el numero de datos nulos total representa un 26.5% del total d datos de train, es posible que tengamos que imputar datos.** "
   ]
  },
  {
   "cell_type": "markdown",
   "id": "02dd6cca",
   "metadata": {},
   "source": [
    "## Analisis exploratorio de variables de 'train'."
   ]
  },
  {
   "cell_type": "code",
   "execution_count": 8,
   "id": "a7a542bf",
   "metadata": {
    "scrolled": false
   },
   "outputs": [
    {
     "data": {
      "text/plain": [
       "Index(['PassengerId', 'HomePlanet', 'CryoSleep', 'Cabin', 'Destination', 'Age',\n",
       "       'VIP', 'RoomService', 'FoodCourt', 'ShoppingMall', 'Spa', 'VRDeck',\n",
       "       'Name'],\n",
       "      dtype='object')"
      ]
     },
     "execution_count": 8,
     "metadata": {},
     "output_type": "execute_result"
    }
   ],
   "source": [
    "train.columns"
   ]
  },
  {
   "cell_type": "code",
   "execution_count": 9,
   "id": "2ea165f1",
   "metadata": {},
   "outputs": [
    {
     "data": {
      "text/plain": [
       "PassengerId       int64\n",
       "HomePlanet       object\n",
       "CryoSleep        object\n",
       "Cabin            object\n",
       "Destination      object\n",
       "Age             float64\n",
       "VIP              object\n",
       "RoomService     float64\n",
       "FoodCourt       float64\n",
       "ShoppingMall    float64\n",
       "Spa             float64\n",
       "VRDeck          float64\n",
       "Name             object\n",
       "dtype: object"
      ]
     },
     "execution_count": 9,
     "metadata": {},
     "output_type": "execute_result"
    }
   ],
   "source": [
    "train.dtypes"
   ]
  },
  {
   "cell_type": "code",
   "execution_count": 10,
   "id": "fc0662af",
   "metadata": {},
   "outputs": [],
   "source": [
    "plt.rcParams['figure.figsize'] = (7, 5)"
   ]
  },
  {
   "cell_type": "code",
   "execution_count": null,
   "id": "8ca40d46",
   "metadata": {
    "scrolled": true
   },
   "outputs": [],
   "source": [
    "#Cabin\n",
    "train.Cabin.value_counts()"
   ]
  },
  {
   "cell_type": "markdown",
   "id": "a205aba7",
   "metadata": {},
   "source": [
    "## Analisis descriptivo de variables que no seran graficadas.  \n",
    "> Las variables **CryoSleep** y **VIP** son de tipo booleano.  \n",
    "> La variable **Cabin** representa el numero de cabina con el detalle de si es en babor(P) o estribor(S).  \n",
    "> La variable **Name** representa el nombre completo del pasajero.  \n",
    "> La variable **PassengerId** representa el id del pasajero.  "
   ]
  },
  {
   "cell_type": "markdown",
   "id": "e0f4d095",
   "metadata": {},
   "source": [
    "**Analisis de variables referidas al monto que el pasajero ha facturado en cada uno de los muchos servicios de lujo del Spaceship Titanic.**"
   ]
  },
  {
   "cell_type": "code",
   "execution_count": null,
   "id": "386e3d3b",
   "metadata": {
    "scrolled": false
   },
   "outputs": [],
   "source": [
    "sns.boxenplot(train.RoomService,showfliers=False);"
   ]
  },
  {
   "cell_type": "code",
   "execution_count": null,
   "id": "787028c5",
   "metadata": {},
   "outputs": [],
   "source": [
    "sns.boxenplot(train.FoodCourt,showfliers=False);"
   ]
  },
  {
   "cell_type": "code",
   "execution_count": null,
   "id": "456df91a",
   "metadata": {},
   "outputs": [],
   "source": [
    "sns.boxenplot(train.ShoppingMall,showfliers=False);"
   ]
  },
  {
   "cell_type": "code",
   "execution_count": null,
   "id": "81917615",
   "metadata": {},
   "outputs": [],
   "source": [
    "sns.boxenplot(train.Spa,showfliers=False);"
   ]
  },
  {
   "cell_type": "code",
   "execution_count": null,
   "id": "c4fe1494",
   "metadata": {},
   "outputs": [],
   "source": [
    "sns.boxenplot(train.VRDeck ,showfliers=False);"
   ]
  },
  {
   "cell_type": "markdown",
   "id": "2f0e4a84",
   "metadata": {},
   "source": [
    "## Algunas observaciones\n",
    "\n",
    "\n",
    ">*A partir de las observaciones realizadas sobre los datos, podemos decir que las variables correspondientes al grupo de Servicios de lujo del Spaceship Titanic, contiene datos un poco desbalanceados con Outliers.  \n",
    ">*A demas las variables **CryoSleep** y **VIP** son del tipo booleano, por lo cual probablemente deban descartarse o ser reemplazadas por valores numericos como 0 y 1.  \n",
    ">*Las columnas categoricas Homeplanet y Destination aportan una posible clasificacion del target.  \n",
    ">*La columna Cabin puede ser usada para generar nuevas features.\n"
   ]
  },
  {
   "cell_type": "markdown",
   "id": "e5aece65",
   "metadata": {},
   "source": [
    "## Posibles acciones\n",
    "  \n",
    ">*Usar metodo de imputacion de valores faltantes a los nulos de cada variable.  \n",
    "*Probar una limpieza de outliers de las columnas de montos en lujos.  \n",
    "*Codificar las variables categoricas.  \n",
    "*Con respecto a las dos variables tipo boolean, ver si combiene codificarlas o transformarlas en 0 y 1.  \n",
    "*elegir columnas a excluir como por Name y PassengerId.  "
   ]
  },
  {
   "cell_type": "markdown",
   "id": "73db0017",
   "metadata": {},
   "source": [
    "__________"
   ]
  },
  {
   "cell_type": "markdown",
   "id": "2d40bee0",
   "metadata": {},
   "source": [
    "____________"
   ]
  },
  {
   "cell_type": "markdown",
   "id": "79795cb1",
   "metadata": {},
   "source": [
    "### Columnas elegidas para el analisis en 'Train'."
   ]
  },
  {
   "cell_type": "markdown",
   "id": "e4c32160",
   "metadata": {},
   "source": [
    "Creemos que las siguientes columnas aportan informacion util para la clasificacion y caracterizacion de los pasajeros en el analisis del problema.  \n",
    "**Columnas elegidas:**"
   ]
  },
  {
   "cell_type": "code",
   "execution_count": null,
   "id": "2ea4b18b",
   "metadata": {
    "scrolled": true
   },
   "outputs": [],
   "source": [
    "['HomePlanet','CryoSleep','Destination','Age','VIP','RoomService','FoodCourt','ShoppingMall','Spa','VRDeck','Cabin']"
   ]
  },
  {
   "cell_type": "markdown",
   "id": "62c1f6f9",
   "metadata": {},
   "source": [
    "Columnas eliminadas debido a que contienen datos que son unicos o keys."
   ]
  },
  {
   "cell_type": "code",
   "execution_count": null,
   "id": "cccbb76b",
   "metadata": {},
   "outputs": [],
   "source": [
    "train = train.drop(columns = ['Name','PassengerId'])"
   ]
  },
  {
   "cell_type": "code",
   "execution_count": null,
   "id": "28448b8d",
   "metadata": {},
   "outputs": [],
   "source": [
    "train.shape"
   ]
  },
  {
   "cell_type": "markdown",
   "id": "3ddbfe76",
   "metadata": {},
   "source": [
    "### Tratamiento de la variable 'Cabin' y generacion de nuevas features en 'Train'."
   ]
  },
  {
   "cell_type": "code",
   "execution_count": null,
   "id": "401f0ee9",
   "metadata": {},
   "outputs": [],
   "source": [
    "train['Cabin']"
   ]
  },
  {
   "cell_type": "code",
   "execution_count": null,
   "id": "d3188acb",
   "metadata": {},
   "outputs": [],
   "source": [
    "new_features = train['Cabin'].str.split(pat=\"/\",expand=True)"
   ]
  },
  {
   "cell_type": "code",
   "execution_count": null,
   "id": "df35b9b8",
   "metadata": {
    "scrolled": false
   },
   "outputs": [],
   "source": [
    "new_features = new_features.rename(columns={0:'Deck_of_spaceship',1:'Number_of_cabin',2:'Port_or_Starboard'})\n",
    "new_features.head()"
   ]
  },
  {
   "cell_type": "code",
   "execution_count": null,
   "id": "e0197ab6",
   "metadata": {},
   "outputs": [],
   "source": [
    "#Eliminamos la columna 'Cabin' ya que las nuevas features aportan informacion con mas peso.\n",
    "train = train.drop(columns='Cabin')"
   ]
  },
  {
   "cell_type": "code",
   "execution_count": null,
   "id": "3600917b",
   "metadata": {
    "scrolled": false
   },
   "outputs": [],
   "source": [
    "train = train.join(new_features, lsuffix='_caller', rsuffix='_other')\n",
    "train.head()"
   ]
  },
  {
   "cell_type": "markdown",
   "id": "40c9431d",
   "metadata": {},
   "source": [
    "Nuevas features Agregadas:  \n",
    ">Deck_of_spaceship : Cubierta  \n",
    ">Number_of_cabin   : Numero de Cabina  \n",
    ">Port_or_Starboard : S=Babor, P=Estribor  \n"
   ]
  },
  {
   "cell_type": "markdown",
   "id": "65a451c5",
   "metadata": {},
   "source": [
    "_________"
   ]
  },
  {
   "cell_type": "markdown",
   "id": "8d05ac0e",
   "metadata": {},
   "source": [
    "# Imputacion de valores nulos en 'Train' para las columnas numericas."
   ]
  },
  {
   "cell_type": "code",
   "execution_count": null,
   "id": "7fbade05",
   "metadata": {},
   "outputs": [],
   "source": [
    "total = train.isnull().sum().sort_values(ascending = False)\n",
    "percent = (train.isnull().sum() / train.isnull().count()).sort_values(ascending = False)\n",
    "missing_data = pd.concat([total, round(percent,3)], axis = 1, keys = ['Total_nulls_test', 'Percent'])\n",
    "missing_data.style.bar(subset = [\"Percent\"], \n",
    "             color = \"lightblue\", \n",
    "             vmin = 0)"
   ]
  },
  {
   "cell_type": "code",
   "execution_count": null,
   "id": "58d4939e",
   "metadata": {
    "scrolled": false
   },
   "outputs": [],
   "source": [
    "train.dtypes"
   ]
  },
  {
   "cell_type": "code",
   "execution_count": null,
   "id": "57d9f374",
   "metadata": {},
   "outputs": [],
   "source": [
    "cat_cols = ['HomePlanet','CryoSleep','Destination','VIP','Deck_of_spaceship','Port_or_Starboard']\n",
    "num_cols = ['Age','RoomService','FoodCourt','ShoppingMall','Spa','VRDeck','Number_of_cabin']"
   ]
  },
  {
   "cell_type": "markdown",
   "id": "961c79df",
   "metadata": {},
   "source": [
    "### Utilizando IterativeImputer imputamos valores faltantes de las columnas numericas de 'Train'."
   ]
  },
  {
   "cell_type": "code",
   "execution_count": null,
   "id": "5d5540db",
   "metadata": {},
   "outputs": [],
   "source": [
    "from sklearn.experimental import enable_iterative_imputer\n",
    "from sklearn.neighbors import KNeighborsRegressor\n",
    "from sklearn.impute import IterativeImputer\n",
    "from sklearn.preprocessing import StandardScaler"
   ]
  },
  {
   "cell_type": "code",
   "execution_count": null,
   "id": "e319fe94",
   "metadata": {},
   "outputs": [],
   "source": [
    "mice_imputer = IterativeImputer(random_state=0, estimator=KNeighborsRegressor())\n",
    "\n",
    "train[\"Age\"] = StandardScaler().fit_transform(\n",
    "    train[[\"Age\"]]\n",
    ")\n",
    "train[\"FoodCourt\"] = StandardScaler().fit_transform(\n",
    "    train[[\"FoodCourt\"]]\n",
    ")\n",
    "train[\"RoomService\"] = StandardScaler().fit_transform(\n",
    "    train[[\"RoomService\"]]\n",
    ")\n",
    "train[\"ShoppingMall\"] = StandardScaler().fit_transform(\n",
    "    train[[\"ShoppingMall\"]]\n",
    ")\n",
    "train[\"Spa\"] = StandardScaler().fit_transform(\n",
    "    train[[\"Spa\"]]\n",
    ")\n",
    "train[\"VRDeck\"] = StandardScaler().fit_transform(\n",
    "    train[[\"VRDeck\"]]\n",
    ")\n",
    "train[\"Number_of_cabin\"] = StandardScaler().fit_transform(\n",
    "    train[[\"Number_of_cabin\"]]\n",
    ")\n",
    "train[\n",
    "    [\"Age\", \"FoodCourt\",\"RoomService\",\"ShoppingMall\",\"Spa\",\"VRDeck\",\"Number_of_cabin\"]\n",
    "] = mice_imputer.fit_transform(train[[\"Age\", \"FoodCourt\",\"RoomService\",\"ShoppingMall\",\"Spa\",\"VRDeck\",\n",
    "                                                   \"Number_of_cabin\"]])"
   ]
  },
  {
   "cell_type": "code",
   "execution_count": null,
   "id": "7e8c838e",
   "metadata": {
    "scrolled": false
   },
   "outputs": [],
   "source": [
    "total = train.isnull().sum().sort_values(ascending = False)\n",
    "percent = (train.isnull().sum() / train.isnull().count()).sort_values(ascending = False)\n",
    "missing_data = pd.concat([total, round(percent,3)], axis = 1, keys = ['Total_nulls_train', 'Percent'])\n",
    "missing_data.style.bar(subset = [\"Percent\"], \n",
    "             color = \"lightgreen\", \n",
    "             vmin = 0)"
   ]
  },
  {
   "cell_type": "markdown",
   "id": "16657d6e",
   "metadata": {},
   "source": [
    ">'Train' quedo sin valores nulos."
   ]
  },
  {
   "cell_type": "code",
   "execution_count": null,
   "id": "28844fa5",
   "metadata": {
    "scrolled": true
   },
   "outputs": [],
   "source": [
    "train.head()"
   ]
  },
  {
   "cell_type": "markdown",
   "id": "b1144ada",
   "metadata": {},
   "source": [
    "### Asignamos X e Y."
   ]
  },
  {
   "cell_type": "code",
   "execution_count": null,
   "id": "d56d0aae",
   "metadata": {
    "scrolled": true
   },
   "outputs": [],
   "source": [
    "y = train.Transported\n",
    "X = train.drop('Transported',axis=1)\n",
    "X.head(3)"
   ]
  },
  {
   "cell_type": "markdown",
   "id": "e68dcef0",
   "metadata": {},
   "source": [
    "### Usamos LabelEncoder para las columnas categoricas y escalamos"
   ]
  },
  {
   "cell_type": "code",
   "execution_count": null,
   "id": "ef73e1a4",
   "metadata": {},
   "outputs": [],
   "source": [
    "from sklearn.preprocessing import StandardScaler, LabelEncoder\n",
    "\n",
    "label_cols = cat_cols\n",
    "\n",
    "for col in label_cols:\n",
    "    X[col] = X[col].astype(str)\n",
    "    X[col] = LabelEncoder().fit_transform(X[col])"
   ]
  },
  {
   "cell_type": "markdown",
   "id": "7fdcc0c7",
   "metadata": {},
   "source": [
    "### Usamos StandardScaler para escalar los datos."
   ]
  },
  {
   "cell_type": "code",
   "execution_count": null,
   "id": "fa9dd1cb",
   "metadata": {
    "scrolled": false
   },
   "outputs": [],
   "source": [
    "x_names = X.columns\n",
    "X = StandardScaler().fit_transform(X)\n",
    "X = pd.DataFrame(X, columns=x_names)\n",
    "X.head()"
   ]
  },
  {
   "cell_type": "markdown",
   "id": "ab4dee3b",
   "metadata": {},
   "source": [
    "### Dividimos en conjuntos de train y test."
   ]
  },
  {
   "cell_type": "code",
   "execution_count": null,
   "id": "d0995384",
   "metadata": {},
   "outputs": [],
   "source": [
    "from sklearn.model_selection import train_test_split, GridSearchCV, StratifiedKFold\n",
    "\n",
    "x_train, x_test, y_train, y_test = train_test_split(X, y, train_size=0.9, random_state = 0 ) "
   ]
  },
  {
   "cell_type": "markdown",
   "id": "c1fc55b0",
   "metadata": {},
   "source": [
    "________________"
   ]
  },
  {
   "cell_type": "markdown",
   "id": "40f8664f",
   "metadata": {},
   "source": [
    "________________________________________________________________________________________________________________________________"
   ]
  },
  {
   "cell_type": "markdown",
   "id": "5725af51",
   "metadata": {},
   "source": [
    "## XG BOOST"
   ]
  },
  {
   "cell_type": "code",
   "execution_count": null,
   "id": "b02541b9",
   "metadata": {},
   "outputs": [],
   "source": [
    "import xgboost as xgb"
   ]
  },
  {
   "cell_type": "code",
   "execution_count": null,
   "id": "44a28f75",
   "metadata": {},
   "outputs": [],
   "source": [
    "x_train, x_test, y_train, y_test = train_test_split(X, y, train_size=0.9, random_state = 0)"
   ]
  },
  {
   "cell_type": "markdown",
   "id": "ca852495",
   "metadata": {},
   "source": [
    "binary:hinge: hinge loss for binary classification. This makes predictions of 0 or 1, rather than producing probabilities.\n",
    "Parametros:\n",
    "n_estimators (int) – Number of boosting rounds.\n",
    "max_depth "
   ]
  },
  {
   "cell_type": "code",
   "execution_count": null,
   "id": "8789bdc1",
   "metadata": {
    "scrolled": true
   },
   "outputs": [],
   "source": [
    "clf_xgb = xgb.XGBClassifier(objective= 'binary:hinge',\n",
    "                            n_estimators= 29,\n",
    "                            max_leaves= 60,\n",
    "                            max_depth= 6,\n",
    "                            random_state = 1, \n",
    "                            tree_method= 'approx'\n",
    "                           )\n",
    "\n",
    "clf_xgb.fit(x_train, y_train)\n",
    "\n",
    "preds_xgb_train = clf_xgb.predict(x_train)\n",
    "preds_xgb_test = clf_xgb.predict(x_test)\n",
    "\n",
    "accuracy_xgb_train = float(np.sum(preds_xgb_train == y_train))/y_train.shape[0]\n",
    "print('Train Accuracy de XGBoost: ', accuracy_xgb_train)\n",
    "\n",
    "accuracy_xgb_test = float(np.sum(preds_xgb_test == y_test))/y_test.shape[0]\n",
    "print('Test Accuracy de XGBoost: ', accuracy_xgb_test)\n"
   ]
  },
  {
   "cell_type": "code",
   "execution_count": null,
   "id": "69526e9e",
   "metadata": {
    "scrolled": true
   },
   "outputs": [],
   "source": [
    "plot_confusion_matrix(clf_xgb, x_test, y_test, cmap=\"magma\");"
   ]
  },
  {
   "cell_type": "code",
   "execution_count": null,
   "id": "8897161a",
   "metadata": {},
   "outputs": [],
   "source": []
  }
 ],
 "metadata": {
  "kernelspec": {
   "display_name": "Python 3 (ipykernel)",
   "language": "python",
   "name": "python3"
  },
  "language_info": {
   "codemirror_mode": {
    "name": "ipython",
    "version": 3
   },
   "file_extension": ".py",
   "mimetype": "text/x-python",
   "name": "python",
   "nbconvert_exporter": "python",
   "pygments_lexer": "ipython3",
   "version": "3.9.13"
  }
 },
 "nbformat": 4,
 "nbformat_minor": 5
}
