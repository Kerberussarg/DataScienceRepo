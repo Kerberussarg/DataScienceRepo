{
 "cells": [
  {
   "cell_type": "code",
   "execution_count": null,
   "id": "70a1c739",
   "metadata": {},
   "outputs": [],
   "source": [
    "from pyspark.sql import SparkSession\n",
    "from pyspark.sql.types import *\n",
    "from pyspark.sql.functions import to_timestamp, trim, lit ,col, concat,count\n",
    "import json\n",
    "spark = SparkSession.builder.getOrCreate()"
   ]
  },
  {
   "cell_type": "markdown",
   "id": "a1d29905",
   "metadata": {},
   "source": [
    "### SQL Spark\n"
   ]
  },
  {
   "cell_type": "markdown",
   "id": "166104bc",
   "metadata": {},
   "source": [
    "Lectura datasets\n"
   ]
  },
  {
   "cell_type": "code",
   "execution_count": null,
   "id": "7974619a",
   "metadata": {},
   "outputs": [],
   "source": [
    "#Input Path\n",
    "input_path = (r\"C:\\Users\\ernes\\OneDrive\\Escritorio\\Carpetas\\CSVs\\disney_Dataset\\disney_movies_total_gross.csv\")\n",
    "#input_path_2 = (r\"C:\\Users\\ernes\\OneDrive\\Escritorio\\Carpetas\\CSVs\\disney_Dataset\\disney-director.csv\")"
   ]
  },
  {
   "cell_type": "code",
   "execution_count": null,
   "id": "c02af317",
   "metadata": {},
   "outputs": [],
   "source": [
    "df = spark.read.options(inferSchema='True', delimiter=',', encoding='UTF-8').csv(input_path,header=True)\n",
    "#df2 = spark.read.options(inferSchema='True', delimiter=',', encoding='UTF-8').csv(input_path_2,header=True)"
   ]
  },
  {
   "cell_type": "code",
   "execution_count": null,
   "id": "b62350cc",
   "metadata": {},
   "outputs": [],
   "source": [
    "#Dataset Shape\n",
    "#print((df2.count(), len(df2.columns)))"
   ]
  },
  {
   "cell_type": "code",
   "execution_count": null,
   "id": "fedae9d3",
   "metadata": {},
   "outputs": [],
   "source": [
    "#df.show(5,True,vertical=False)"
   ]
  },
  {
   "cell_type": "code",
   "execution_count": null,
   "id": "b815d377",
   "metadata": {},
   "outputs": [],
   "source": [
    "#nombre del dataset dentro de la consulta de SQL\n",
    "df_from = 'disney'      \n",
    "#df_from2 = 'directors'\n"
   ]
  },
  {
   "cell_type": "code",
   "execution_count": null,
   "id": "c102b5ff",
   "metadata": {},
   "outputs": [],
   "source": [
    "#Creamos una vista del dataframe para usar en el FROM\n",
    "df.createOrReplaceTempView(df_from)\n",
    "#df2.createOrReplaceTempView(df_from2)"
   ]
  },
  {
   "cell_type": "code",
   "execution_count": null,
   "id": "82e28ca4",
   "metadata": {},
   "outputs": [],
   "source": [
    "#Query variable\n",
    "Query = \"select *\\\n",
    "        from disney\"  "
   ]
  },
  {
   "cell_type": "code",
   "execution_count": null,
   "id": "641f14b2",
   "metadata": {
    "scrolled": false
   },
   "outputs": [],
   "source": [
    "#Ejecutamos Query y mostramos resultado\n",
    "df_sql = spark.sql(Query)\n",
    "df_sql.show(50,truncate = False,vertical=False)"
   ]
  },
  {
   "cell_type": "code",
   "execution_count": null,
   "id": "d396b819",
   "metadata": {},
   "outputs": [],
   "source": []
  },
  {
   "cell_type": "markdown",
   "id": "52425d4b",
   "metadata": {},
   "source": [
    "### Script para comparar columnas con PySpark"
   ]
  },
  {
   "cell_type": "markdown",
   "id": "ee986fd4",
   "metadata": {},
   "source": [
    "Leemos dataframe"
   ]
  },
  {
   "cell_type": "code",
   "execution_count": null,
   "id": "adf62e1c",
   "metadata": {},
   "outputs": [],
   "source": [
    "#colocar path\n",
    "input_path = r\"C:\\Users\\ernes\\OneDrive\\Escritorio\\Carpetas\\CSVs\\disney_Dataset\\disney-director.csv\"\n",
    "\n",
    "df = spark.read.options(inferSchema='True', delimiter=',', encoding='UTF-8').csv(input_path,header=True)\n",
    "\n",
    "df.show(5,True,vertical=False)"
   ]
  },
  {
   "cell_type": "code",
   "execution_count": null,
   "id": "1ba2430b",
   "metadata": {},
   "outputs": [],
   "source": [
    "#Comparo dos columnas>>> False:datos distintos\n",
    "column1=\"director\"\n",
    "column2=\"director2\"\n",
    "\n",
    "def compare_two_colums(df,column1,column2):\n",
    "    \"\"\" Compara la col1 contra la col2 y devuelve las columnas que difieren\"\"\"\n",
    "    \n",
    "    df.select(column1,column2)\\\n",
    "        .filter((col(column1) == col(column2)) == False)\\\n",
    "        .show(10,False)\n",
    "    print(\"Cantidad de datos distintos: \",df.count())\n",
    "    \n",
    "compare_two_colums(df,column1,column2)"
   ]
  },
  {
   "cell_type": "code",
   "execution_count": null,
   "id": "2b547e03",
   "metadata": {},
   "outputs": [],
   "source": []
  }
 ],
 "metadata": {
  "kernelspec": {
   "display_name": "Python 3 (ipykernel)",
   "language": "python",
   "name": "python3"
  },
  "language_info": {
   "codemirror_mode": {
    "name": "ipython",
    "version": 3
   },
   "file_extension": ".py",
   "mimetype": "text/x-python",
   "name": "python",
   "nbconvert_exporter": "python",
   "pygments_lexer": "ipython3",
   "version": "3.9.13"
  }
 },
 "nbformat": 4,
 "nbformat_minor": 5
}
